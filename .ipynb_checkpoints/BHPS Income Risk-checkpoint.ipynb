{
 "cells": [
  {
   "cell_type": "markdown",
   "metadata": {},
   "source": [
    "## Income Risk in the BHPS\n",
    "\n",
    "This notebook creates a variance-covariance matrix of income residuals similar to the one created for PSID data [here](https://github.com/nilshg/psidJulia). "
   ]
  },
  {
   "cell_type": "code",
   "execution_count": 1,
   "metadata": {
    "collapsed": false
   },
   "outputs": [],
   "source": [
    "import numpy as np; import pandas as pd; import string; import statsmodels.formula.api as sm\n",
    "\n",
    "df = pd.read_stata(\"C:/Users/tew207/Desktop/BHPS_1_18.dta\")"
   ]
  },
  {
   "cell_type": "markdown",
   "metadata": {},
   "source": [
    "Preliminary definitions:"
   ]
  },
  {
   "cell_type": "code",
   "execution_count": 2,
   "metadata": {
    "collapsed": true
   },
   "outputs": [],
   "source": [
    "tinit = 1992; tlast = 2009\n",
    "ageinit = 20; agelast = 64\n",
    "agecell = 4\n",
    "minyrs = 5\n",
    "nlag = 5\n",
    "agelb = 20; ageub = agelb + agecell\n",
    "agemidpt = (agelb+ageub)/2  # = 22\n",
    "agemax = (agelast + agelast - agecell)/2 - agemidpt + 1  # = 41 (maximum age a cohort can reach)\n",
    "oldcoh = agelast - minyrs - ageinit - agecell/2   # number of cohort existing in the first year\n",
    "years = range(tinit, tlast+1)\n",
    "newcoh = tlast - tinit - minyrs + 1\n",
    "maxcoh = oldcoh + newcoh  # total number of cohorts;"
   ]
  },
  {
   "cell_type": "code",
   "execution_count": 3,
   "metadata": {
    "collapsed": false
   },
   "outputs": [
    {
     "name": "stdout",
     "output_type": "stream",
     "text": [
      "There are 8205 households with less than 5 observations\n",
      "Keeping 45205 households with more than 5 observations\n",
      "Wall time: 23.4 s\n"
     ]
    }
   ],
   "source": [
    "%%time\n",
    "df['kept'] = 0\n",
    "\n",
    "for pid in df.pid.unique():\n",
    "    df.loc[df.pid==pid, 'kept'] = len(df[df.pid==pid])\n",
    "    \n",
    "print \"There are\",len(df[df.kept<5]),\"households with less than 5 observations\"\n",
    "print \"Keeping\",len(df[df.kept>4]),\"households with more than 5 observations\"\n",
    "df = df[df.kept>4]"
   ]
  },
  {
   "cell_type": "markdown",
   "metadata": {},
   "source": [
    "Merge the [supplemental data files](https://www.iser.essex.ac.uk/files/iser_working_papers/2010-33.pdf) created by Stephen Jenkins, giving equivalized deflated net household income:"
   ]
  },
  {
   "cell_type": "code",
   "execution_count": 4,
   "metadata": {
    "collapsed": false
   },
   "outputs": [],
   "source": [
    "for x in string.ascii_lowercase[0:18]:\n",
    "    df2 = pd.read_stata(\"C:/Users/tew207/Desktop/PhD_Data/BHPS/Data/\"+x+\"_neta.dta\")\n",
    "    df = pd.merge(df, df2, left_on=['hid'], right_on=[x+'hid'], how='left')"
   ]
  },
  {
   "cell_type": "markdown",
   "metadata": {},
   "source": [
    "As the supplemental data is in wide format, we need to consolidate the yearly data into one long variable:"
   ]
  },
  {
   "cell_type": "code",
   "execution_count": 5,
   "metadata": {
    "collapsed": false
   },
   "outputs": [
    {
     "name": "stdout",
     "output_type": "stream",
     "text": [
      "Wall time: 586 ms\n"
     ]
    }
   ],
   "source": [
    "df['hhyneti'] = 0\n",
    "df['hhnyrde'] = 0\n",
    "df['hhnyrde2'] = 0\n",
    "    \n",
    "for (x,yr) in zip(string.ascii_lowercase[0:18], range(1992,2010)):\n",
    "    df.loc[df.year==yr, 'hhyneti'] = df.loc[df.year==yr, x+'hhyneti']\n",
    "    df.loc[df.year==yr, 'hhnyrde'] = df.loc[df.year==yr, x+'hhnyrde']\n",
    "    df.loc[df.year==yr, 'hhnyrde2'] = df.loc[df.year==yr, x+'hhnyrde2']\n",
    "    \n",
    "df = df[df.hhyneti>5000]"
   ]
  },
  {
   "cell_type": "markdown",
   "metadata": {},
   "source": [
    "Create labour market experience by calculating the age individual left full-time education (either left school, or, in the case of those with further education, left further education) and then subtracting this from current age:"
   ]
  },
  {
   "cell_type": "code",
   "execution_count": 6,
   "metadata": {
    "collapsed": false
   },
   "outputs": [
    {
     "name": "stdout",
     "output_type": "stream",
     "text": [
      "Wall time: 37.3 s\n"
     ]
    }
   ],
   "source": [
    "%%time\n",
    "for pid in df.pid.unique():\n",
    "    df.loc[df.pid==pid, 'scend'] = np.max(df.loc[df.pid==pid]['scend'])\n",
    "    df.loc[df.pid==pid, 'feend'] = np.max(df.loc[df.pid==pid]['feend'])\n",
    "\n",
    "df['edu_end'] =  df.scend.clip(12,np.inf)\n",
    "df.loc[df.feend>df.scend, 'edu_end'] = df.feend\n",
    "df['expr'] = df.age - df.edu_end\n",
    "\n",
    "df[\"exprsq\"] = df[\"expr\"]**2/100\n",
    "df[\"exprcu\"] = df[\"expr\"]**3/1000"
   ]
  },
  {
   "cell_type": "markdown",
   "metadata": {},
   "source": [
    "For each year, regress log income on a cubic polyinomial in age:"
   ]
  },
  {
   "cell_type": "code",
   "execution_count": 7,
   "metadata": {
    "collapsed": false
   },
   "outputs": [],
   "source": [
    "df['logrinc'] = np.log(df.hhyneti)\n",
    "\n",
    "newcols = [\"beta_age\", \"beta_agesq\", \"beta_agecu\", \"constant\", \"residual\"]\n",
    "df = pd.concat([df, pd.DataFrame(index=df.index, columns=newcols, dtype=float)], axis=1)\n",
    "\n",
    "for yr in years:\n",
    "    result = sm.ols(\"logrinc ~ expr + exprsq + exprcu\", data=df[df.year==yr]).fit()\n",
    "    # save coefficients\n",
    "    df.loc[df.year==yr, [\"beta_age\", \"beta_agesq\", \"beta_agecu\", \"constant\"]] = list(result.params)\n",
    "    # save residuals\n",
    "    df.loc[df.year==yr, \"residual\"] = result.resid"
   ]
  },
  {
   "cell_type": "code",
   "execution_count": 8,
   "metadata": {
    "collapsed": false
   },
   "outputs": [
    {
     "name": "stdout",
     "output_type": "stream",
     "text": [
      "Wall time: 2.29 s\n"
     ]
    }
   ],
   "source": [
    "%%time\n",
    "# Pre-allocate columns for speed\n",
    "newcols = [\"resid\"+str(i)+\"_\"+str(j) for i in range(1,agemax+1) for j in range(1,tlast-tinit+1)]\n",
    "df = pd.concat([df, pd.DataFrame(index=df.index, columns=newcols, dtype=float)], axis=1)\n",
    "newcols = [\"resid\"+str(i)+\"f\"+str(j) for i in range(1,agemax+1) for j in range(1,tlast-tinit+1)]\n",
    "df = pd.concat([df, pd.DataFrame(index=df.index, columns=newcols, dtype=float)], axis=1)\n",
    "\n",
    "# Sort by id and year, reset index \n",
    "df.sort(columns=[\"pid\", \"year\"], inplace=True)\n",
    "df.index = range(1, len(df)+1)"
   ]
  },
  {
   "cell_type": "code",
   "execution_count": 9,
   "metadata": {
    "collapsed": false
   },
   "outputs": [
    {
     "name": "stdout",
     "output_type": "stream",
     "text": [
      "Wall time: 3min 10s\n"
     ]
    }
   ],
   "source": [
    "%%time \n",
    "# Create the lagged covariance vectors as columns in the dataframe\n",
    "j = ageub    # Cohort age upper bound\n",
    "m = 1        # Cohort age midpoint (1 is age 22)\n",
    "\n",
    "for i in range(agelb,agelast-agecell+1):\n",
    "    n = 0     # Lag counter\n",
    "    for k in years:\n",
    "        t = k - tinit + 1 # resid1f1 is age group 1 (20-24) in year 1 (tinit)\n",
    "        cond = (df.age.isin(range(i,j+1))) & (df.year==k)\n",
    "        df.loc[cond, \"resid\"+str(m)+\"_\"+str(t)] = df.loc[cond, 'residual']\n",
    "        df.loc[:, \"resid\"+str(m)+\"f\"+str(t)] = df[\"resid\"+str(m)+\"_\"+str(t)].shift(-n)\n",
    "        df.drop(\"resid\"+str(m)+\"_\"+str(t), axis=1, inplace=True)\n",
    "        n += 1\n",
    "    j += 1    # Increment upper age bound\n",
    "    m += 1    # Increment age mid-point"
   ]
  },
  {
   "cell_type": "code",
   "execution_count": 10,
   "metadata": {
    "collapsed": false
   },
   "outputs": [
    {
     "name": "stdout",
     "output_type": "stream",
     "text": [
      "Wall time: 44.2 s\n"
     ]
    }
   ],
   "source": [
    "%%time\n",
    "# Cov holds the covariances, N the observations used to calculate them\n",
    "Cov = np.full((maxcoh, agemax, agemax), 0)\n",
    "N = np.full((maxcoh, agemax, agemax), 0)\n",
    "\n",
    "for time in range(1, tlast-tinit+2):\n",
    "    for age in range(1, agemax+1):\n",
    "        c = min(age,time,nlag)\n",
    "        cohort = age - time + newcoh + 1\n",
    "        if cohort in range(1, maxcoh+1):\n",
    "            for k in range(1,c+1):\n",
    "                m = c - k\n",
    "                l = age - m\n",
    "                x = time - m\n",
    "                cond = (~np.isnan(df[\"resid\"+str(age)+\"f\"+str(time)])) & (~np.isnan(df[\"resid\"+str(l)+\"f\"+str(x)]))\n",
    "                if (len(df[cond])>10):\n",
    "                    cov = np.cov(df.loc[cond, \"resid\"+str(age)+\"f\"+str(time)], df.loc[cond, \"resid\"+str(l)+\"f\"+str(x)])\n",
    "                    Cov[cohort-1, age-1, l-1] = cov[0,1]\n",
    "                    N[cohort-1, age-1, l-1] = len(df[cond])"
   ]
  },
  {
   "cell_type": "code",
   "execution_count": 11,
   "metadata": {
    "collapsed": true
   },
   "outputs": [],
   "source": [
    "import h5py\n",
    "\n",
    "output = h5py.File('BHPS_'+str(tinit)+'_'+str(tlast)+'.h5', 'w')\n",
    "output.create_dataset('Covariances', data=Cov)\n",
    "output.create_dataset('Observations', data=N)\n",
    "output.close()"
   ]
  }
 ],
 "metadata": {
  "kernelspec": {
   "display_name": "Python 2",
   "language": "python",
   "name": "python2"
  },
  "language_info": {
   "codemirror_mode": {
    "name": "ipython",
    "version": 2
   },
   "file_extension": ".py",
   "mimetype": "text/x-python",
   "name": "python",
   "nbconvert_exporter": "python",
   "pygments_lexer": "ipython2",
   "version": "2.7.8"
  }
 },
 "nbformat": 4,
 "nbformat_minor": 0
}
